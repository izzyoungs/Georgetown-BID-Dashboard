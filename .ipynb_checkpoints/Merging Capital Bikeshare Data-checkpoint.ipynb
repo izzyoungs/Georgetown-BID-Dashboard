{
 "cells": [
  {
   "cell_type": "markdown",
   "metadata": {},
   "source": [
    "## Merging New and Historic Capital Bikeshare Data for the Tableau Dashboard\n",
    "\n",
    "The first piece of code will import the necessary packages and set the working directory as the folder path where the .csv files are. You will want to change the working directory path to match your own path. You have to use forward slashes (/) instead of backslashes in the folder path. "
   ]
  },
  {
   "cell_type": "code",
   "execution_count": null,
   "metadata": {},
   "outputs": [],
   "source": [
    "shhh <- suppressPackageStartupMessages\n",
    "shhh(library(dplyr))\n",
    "shhh(library(magrittr))\n",
    "shhh(library(DT))\n",
    "\n",
    "# set wd\n",
    "setwd(\"C:/Users/izzyo/Google Drive (iwy2@georgetown.edu)/MURP/Georgetown BID/Sample\")"
   ]
  },
  {
   "cell_type": "markdown",
   "metadata": {},
   "source": [
    "Next we will need to read in the old csv that is being used by the Tableau dashboard and the new csv from the Capital Bikeshare website. The new data can be obtained from [here](https://s3.amazonaws.com/capitalbikeshare-data/index.html) and will need to be unzipped. The csv should be saved to the Tableau Dashboard folder in order for R to find it."
   ]
  },
  {
   "cell_type": "code",
   "execution_count": null,
   "metadata": {},
   "outputs": [],
   "source": [
    "historicalcabi <- read.csv(\"bikesharedata.csv\")\n",
    "newcabi <- read.csv(\"202006-capitalbikeshare-tripdata.csv\")"
   ]
  },
  {
   "cell_type": "markdown",
   "metadata": {},
   "source": [
    "The follow piece of code conforms the schema so the data can be stitched together without any errors. There could be errors here if Capital Bikeshare changes the way they format their schema, so if there are issues please review the data column headers to ensure this code is still applicable. The last line of code binds the rows together."
   ]
  },
  {
   "cell_type": "code",
   "execution_count": null,
   "metadata": {},
   "outputs": [],
   "source": [
    "newcabi$updated <- as.Date(newcabi$started_at)\n",
    "newcabi$updated <- format(newcabi$updated, format=\"%m/%d/%Y\")\n",
    "newcabi$updated <- as.character(newcabi$updated)\n",
    "newcabi <- newcabi %>% \n",
    "  select(start_station_name, end_station_name, updated, member_casual) %>%\n",
    "  filter(start_station_name == \"M St & Pennsylvania Ave NW\" | \n",
    "           start_station_name == \"C & O Canal & Wisconsin Ave NW\" | \n",
    "           start_station_name == \"Wisconsin Ave & O St NW\" | \n",
    "           start_station_name == \"Georgetown Harbor / 30th St NW\" | \n",
    "           start_station_name == \"37th & O St NW / Georgetown University\" |\n",
    "           start_station_name == \"34th & Water St NW\" |\n",
    "           start_station_name == \"Potomac & M St NW\" |\n",
    "           end_station_name == \"M St & Pennsylvania Ave NW\" | \n",
    "           end_station_name == \"C & O Canal & Wisconsin Ave NW\" | \n",
    "           end_station_name == \"Wisconsin Ave & O St NW\" | \n",
    "           end_station_name == \"Georgetown Harbor / 30th St NW\" | \n",
    "           end_station_name == \"37th & O St NW / Georgetown University\" |\n",
    "           end_station_name == \"34th & Water St NW\" |\n",
    "           end_station_name == \"Potomac & M St NW\")\n",
    "updatedcabi <- rbind(historicalcabi, newcabi) "
   ]
  },
  {
   "cell_type": "markdown",
   "metadata": {},
   "source": [
    "If the table was not saved correctly due to schema errors or other errors in the code, this action could mess up the dashboard. Please review the output to ensure that it looks correct before saving."
   ]
  },
  {
   "cell_type": "code",
   "execution_count": null,
   "metadata": {},
   "outputs": [],
   "source": [
    "head(updatedcabi)\n",
    "tail(updatedcabi)"
   ]
  },
  {
   "cell_type": "markdown",
   "metadata": {},
   "source": [
    "If the table looks correct and the new data has been added sufficiently, you may save over the previous csv file and update the extract in Tableau:"
   ]
  },
  {
   "cell_type": "code",
   "execution_count": null,
   "metadata": {},
   "outputs": [],
   "source": [
    "write.csv(updatedcabi, \"bikseharedata.csv\")"
   ]
  }
 ],
 "metadata": {
  "kernelspec": {
   "display_name": "R",
   "language": "R",
   "name": "ir"
  },
  "language_info": {
   "codemirror_mode": "r",
   "file_extension": ".r",
   "mimetype": "text/x-r-source",
   "name": "R",
   "pygments_lexer": "r",
   "version": "3.6.1"
  }
 },
 "nbformat": 4,
 "nbformat_minor": 4
}
